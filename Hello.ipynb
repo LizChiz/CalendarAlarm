{
 "cells": [
  {
   "cell_type": "code",
   "execution_count": null,
   "metadata": {},
   "outputs": [],
   "source": [
    "from tkinter import *"
   ]
  },
  {
   "cell_type": "code",
   "execution_count": null,
   "metadata": {},
   "outputs": [],
   "source": [
    "from tkinter import *\n",
    "\n",
    "root = Tk()\n",
    "\n",
    "# creating a label widget\n",
    "MyLabel = Label(root, text = \"Hello World!\")\n",
    "# Shoving it onto screen\n",
    "MyLabel.pack()\n",
    "\n",
    "root.mainloop()"
   ]
  },
  {
   "cell_type": "code",
   "execution_count": null,
   "metadata": {},
   "outputs": [],
   "source": [
    "root = Tk()\n",
    "\n",
    "# creating a label widget\n",
    "MyLabel1 = Label(root, text = \"Hello World!\")\n",
    "MyLabel2 = Label(root, text = \"My name is Liz Chisholm\")\n",
    "\n",
    "\n",
    "MyLabel1.grid(row = 0, column = 0)\n",
    "MyLabel2.grid(row = 1, column = 5)\n",
    "\n",
    "root.mainloop()"
   ]
  },
  {
   "cell_type": "code",
   "execution_count": null,
   "metadata": {},
   "outputs": [],
   "source": [
    "root = Tk()\n",
    "\n",
    "def myClick():\n",
    "    myLabel = Label(root, text = \"Look! I clicked a button!\")\n",
    "    myLabel.pack()\n",
    "\n",
    "# creating a button widget\n",
    "myButton = Button(root, text = \"Click Me!\", padx = 50, pady = 50, command = myClick)\n",
    "\n",
    "myButton.pack()\n",
    "\n",
    "root.mainloop()"
   ]
  },
  {
   "cell_type": "code",
   "execution_count": null,
   "metadata": {},
   "outputs": [],
   "source": []
  },
  {
   "cell_type": "code",
   "execution_count": null,
   "metadata": {},
   "outputs": [],
   "source": [
    "# importing packages\n",
    "\n",
    "import datetime as dt\n",
    "\n",
    "# setting the alarm time\n",
    "scheduled_time = dt.time(15,46,00,0)\n",
    "\n",
    "# initialising the root Tk instance\n",
    "root = Tk()\n",
    "\n",
    "\n",
    "# defining function myClick to display comment went button is clicked\n",
    "def myClick():\n",
    "    myLabel = Label(root, text = \"Look! I clicked a button!\")\n",
    "    myLabel.pack()\n",
    "\n",
    "# creating a button widget\n",
    "myButton = Button(root, text = \"Click Me!\", padx = 50, pady = 50, command = myClick)\n",
    "\n",
    "# while loop to check current time against scheduled_time and to display button when time is reached\n",
    "while 1==1:\n",
    "    if (scheduled_time < dt.datetime.now().time() and \n",
    "       scheduled_time > (dt.datetime.now()- dt.timedelta(seconds=59)).time() ):\n",
    "        myButton.pack()\n",
    "        break\n",
    "\n",
    "        \n",
    "root.mainloop()        "
   ]
  },
  {
   "cell_type": "code",
   "execution_count": null,
   "metadata": {},
   "outputs": [],
   "source": [
    "from tkinter import *\n",
    "import pygame\n",
    "\n",
    "\n",
    "root = Tk()\n",
    "\n",
    "pygame.mixer.init()\n",
    "\n",
    "def play():\n",
    "    pygame.mixer.music.load(\"audio/retro game alarm.wav\")\n",
    "    pygame.mixer.music.play(loops = 0)\n",
    "    \n",
    "def stop():    \n",
    "    pygame.mixer.music.stop()\n",
    "\n",
    "\n",
    "# creating a button widget\n",
    "myButton = Button(root, text = \"Play song!\",font = (\"Helvetica\", 32), command = play)\n",
    "myButton.pack(pady = 20)\n",
    "\n",
    "stopButton = Button(root, text = \"Stop playing!\", command = stop)\n",
    "stopButton.pack(pady = 20)\n",
    "\n",
    "root.mainloop()\n"
   ]
  },
  {
   "cell_type": "code",
   "execution_count": 4,
   "metadata": {},
   "outputs": [],
   "source": [
    "# importing packages\n",
    "\n",
    "import datetime as dt\n",
    "\n",
    "from tkinter import *\n",
    "import pygame\n",
    "\n",
    "\n",
    "# setting the alarm time\n",
    "scheduled_time = dt.time(19,37,0,0)\n",
    "\n",
    "# initialising the root Tk instance\n",
    "root = Tk()\n",
    "\n",
    "pygame.mixer.init()\n",
    "\n",
    "\n",
    "def play():\n",
    "    pygame.mixer.music.load(\"audio/retro game alarm.wav\")\n",
    "    pygame.mixer.music.play(loops = 0)\n",
    "    \n",
    "def stop():    \n",
    "    pygame.mixer.music.stop()\n",
    "\n",
    "\n",
    "# creating a button widget\n",
    "myButton = Button(root, text = \"Stop Song!\",font = (\"Helvetica\", 32), command = stop)\n",
    "#\n",
    "\n",
    "# stopButton = Button(root, text = \"Stop playing!\", command = stop)\n",
    "#stopButton.pack(pady = 20)\n",
    "\n",
    "# while loop to check current time against scheduled_time and to display button when time is reached\n",
    "while 1==1:\n",
    "    if (scheduled_time < dt.datetime.now().time() and \n",
    "       scheduled_time > (dt.datetime.now()- dt.timedelta(seconds=59)).time() ):\n",
    "        play()\n",
    "        myButton.pack(pady = 20)\n",
    "        break\n",
    "\n",
    "root.mainloop()\n",
    "\n"
   ]
  },
  {
   "cell_type": "code",
   "execution_count": null,
   "metadata": {},
   "outputs": [],
   "source": []
  }
 ],
 "metadata": {
  "kernelspec": {
   "display_name": "Python 3",
   "language": "python",
   "name": "python3"
  },
  "language_info": {
   "codemirror_mode": {
    "name": "ipython",
    "version": 3
   },
   "file_extension": ".py",
   "mimetype": "text/x-python",
   "name": "python",
   "nbconvert_exporter": "python",
   "pygments_lexer": "ipython3",
   "version": "3.7.3"
  }
 },
 "nbformat": 4,
 "nbformat_minor": 4
}
