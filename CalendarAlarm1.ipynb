{
 "cells": [
  {
   "cell_type": "code",
   "execution_count": 1,
   "metadata": {},
   "outputs": [
    {
     "ename": "NameError",
     "evalue": "name 'tkinter' is not defined",
     "output_type": "error",
     "traceback": [
      "\u001b[1;31m---------------------------------------------------------------------------\u001b[0m",
      "\u001b[1;31mNameError\u001b[0m                                 Traceback (most recent call last)",
      "\u001b[1;32m<ipython-input-1-a7917ea0cad9>\u001b[0m in \u001b[0;36m<module>\u001b[1;34m\u001b[0m\n\u001b[0;32m      1\u001b[0m \u001b[1;32mfrom\u001b[0m \u001b[0mtkinter\u001b[0m \u001b[1;32mimport\u001b[0m \u001b[1;33m*\u001b[0m\u001b[1;33m\u001b[0m\u001b[1;33m\u001b[0m\u001b[0m\n\u001b[1;32m----> 2\u001b[1;33m \u001b[0mtkinter\u001b[0m\u001b[1;33m.\u001b[0m\u001b[0m_test\u001b[0m\u001b[1;33m(\u001b[0m\u001b[1;33m)\u001b[0m\u001b[1;33m\u001b[0m\u001b[1;33m\u001b[0m\u001b[0m\n\u001b[0m",
      "\u001b[1;31mNameError\u001b[0m: name 'tkinter' is not defined"
     ]
    }
   ],
   "source": [
    "from tkinter import *\n",
    "\n",
    "tkinter._test()"
   ]
  },
  {
   "cell_type": "code",
   "execution_count": 2,
   "metadata": {},
   "outputs": [],
   "source": [
    "import tkinter\n",
    "tkinter._test()"
   ]
  },
  {
   "cell_type": "code",
   "execution_count": 3,
   "metadata": {},
   "outputs": [],
   "source": [
    "import datetime as dt"
   ]
  },
  {
   "cell_type": "code",
   "execution_count": 5,
   "metadata": {},
   "outputs": [
    {
     "name": "stdout",
     "output_type": "stream",
     "text": [
      "Now is the time to print\n"
     ]
    }
   ],
   "source": [
    "import datetime as dt\n",
    "scheduled_time = dt.time(13,24,00,0)\n",
    "while 1==1:\n",
    "    if (scheduled_time < dt.datetime.now().time() and \n",
    "       scheduled_time > (dt.datetime.now()- dt.timedelta(seconds=59)).time() ):\n",
    "        print(\"Now is the time to print\")\n",
    "        break\n",
    "    "
   ]
  },
  {
   "cell_type": "code",
   "execution_count": null,
   "metadata": {},
   "outputs": [],
   "source": [
    "from icalendar import Calendar, Event\n",
    "from datetime import datetime\n",
    "from pytz import UTC # timezone\n",
    "\n",
    "cal = Calendar()\n",
    "cal.add('prodid', '-//My calendar product//mxm.dk//')\n",
    "cal.add('version', '2.0')\n",
    "\n",
    "event = Event()\n",
    "event.add('summary', 'Python meeting about calendaring')\n",
    "event.add('dtstart', datetime(2005,4,4,8,0,0,tzinfo=UTC))\n",
    "event.add('dtend', datetime(2005,4,4,10,0,0,tzinfo=UTC))\n",
    "event.add('dtstamp', datetime(2005,4,4,0,10,0,tzinfo=UTC))\n",
    "event['uid'] = '20050115T101010/27346262376@mxm.dk'\n",
    "event.add('priority', 5)\n",
    "\n",
    "cal.add_component(event)\n",
    "\n",
    "f = open('example.ics', 'wb')\n",
    "f.write(cal.to_ical())\n",
    "f.close()"
   ]
  },
  {
   "cell_type": "code",
   "execution_count": null,
   "metadata": {},
   "outputs": [],
   "source": [
    "g = open('example.ics','rb')\n",
    "gcal = Calendar.from_ical(g.read())\n",
    "for component in gcal.walk():\n",
    "    if component.name == \"VEVENT\":\n",
    "        print(component.get('summary'))\n",
    "        print(component.get('dtstart'))\n",
    "        print(component.get('dtend'))\n",
    "        print(component.get('dtstamp'))\n",
    "g.close()"
   ]
  }
 ],
 "metadata": {
  "kernelspec": {
   "display_name": "Python 3",
   "language": "python",
   "name": "python3"
  },
  "language_info": {
   "codemirror_mode": {
    "name": "ipython",
    "version": 3
   },
   "file_extension": ".py",
   "mimetype": "text/x-python",
   "name": "python",
   "nbconvert_exporter": "python",
   "pygments_lexer": "ipython3",
   "version": "3.7.3"
  }
 },
 "nbformat": 4,
 "nbformat_minor": 4
}
