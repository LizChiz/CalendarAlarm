{
 "cells": [
  {
   "cell_type": "code",
   "execution_count": 1,
   "metadata": {},
   "outputs": [
    {
     "ename": "NameError",
     "evalue": "name 'tkinter' is not defined",
     "output_type": "error",
     "traceback": [
      "\u001b[1;31m---------------------------------------------------------------------------\u001b[0m",
      "\u001b[1;31mNameError\u001b[0m                                 Traceback (most recent call last)",
      "\u001b[1;32m<ipython-input-1-a7917ea0cad9>\u001b[0m in \u001b[0;36m<module>\u001b[1;34m\u001b[0m\n\u001b[0;32m      1\u001b[0m \u001b[1;32mfrom\u001b[0m \u001b[0mtkinter\u001b[0m \u001b[1;32mimport\u001b[0m \u001b[1;33m*\u001b[0m\u001b[1;33m\u001b[0m\u001b[1;33m\u001b[0m\u001b[0m\n\u001b[1;32m----> 2\u001b[1;33m \u001b[0mtkinter\u001b[0m\u001b[1;33m.\u001b[0m\u001b[0m_test\u001b[0m\u001b[1;33m(\u001b[0m\u001b[1;33m)\u001b[0m\u001b[1;33m\u001b[0m\u001b[1;33m\u001b[0m\u001b[0m\n\u001b[0m",
      "\u001b[1;31mNameError\u001b[0m: name 'tkinter' is not defined"
     ]
    }
   ],
   "source": [
    "from tkinter import *\n",
    "\n",
    "tkinter._test()"
   ]
  },
  {
   "cell_type": "code",
   "execution_count": 2,
   "metadata": {},
   "outputs": [],
   "source": [
    "import tkinter\n",
    "tkinter._test()"
   ]
  },
  {
   "cell_type": "code",
   "execution_count": 3,
   "metadata": {},
   "outputs": [],
   "source": [
    "import datetime as dt"
   ]
  },
  {
   "cell_type": "code",
   "execution_count": 5,
   "metadata": {},
   "outputs": [
    {
     "name": "stdout",
     "output_type": "stream",
     "text": [
      "Now is the time to print\n"
     ]
    }
   ],
   "source": [
    "import datetime as dt\n",
    "scheduled_time = dt.time(13,24,00,0)\n",
    "while 1==1:\n",
    "    if (scheduled_time < dt.datetime.now().time() and \n",
    "       scheduled_time > (dt.datetime.now()- dt.timedelta(seconds=59)).time() ):\n",
    "        print(\"Now is the time to print\")\n",
    "        break\n",
    "    "
   ]
  },
  {
   "cell_type": "code",
   "execution_count": null,
   "metadata": {},
   "outputs": [],
   "source": [
    "# importing packages\n",
    "\n",
    "import datetime as dt\n",
    "\n",
    "from tkinter import *\n",
    "import pygame\n",
    "\n",
    "\n",
    "# setting the alarm time\n",
    "scheduled_time = dt.time(19,37,0,0)\n",
    "\n",
    "# initialising the root Tk instance\n",
    "root = Tk()\n",
    "\n",
    "# initialising the pygame mixer instance\n",
    "pygame.mixer.init()\n",
    "\n",
    "# define method to play sound\n",
    "def play():\n",
    "    pygame.mixer.music.load(\"audio/retro game alarm.wav\")\n",
    "    pygame.mixer.music.play(loops = 5)\n",
    "\n",
    "    \n",
    "# define method to stop playing sound    \n",
    "def stop():    \n",
    "    pygame.mixer.music.stop()\n",
    "\n",
    "\n",
    "# creating a button widget\n",
    "myButton = Button(root, text = \"Stop Song!\",font = (\"Helvetica\", 32), command = stop)\n",
    "\n",
    "\n",
    "# while loop to check current time against scheduled_time,\n",
    "# play sound and  display button when time is reached until button is pressed\n",
    "while 1==1:\n",
    "    if (scheduled_time < dt.datetime.now().time() and \n",
    "       scheduled_time > (dt.datetime.now()- dt.timedelta(seconds=59)).time() ):\n",
    "        play()\n",
    "        myButton.pack(pady = 20)\n",
    "        break\n",
    "\n",
    "root.mainloop()\n",
    "\n"
   ]
  },
  {
   "cell_type": "code",
   "execution_count": null,
   "metadata": {},
   "outputs": [],
   "source": [
    "from icalendar import Calendar, Event\n",
    "from datetime import datetime\n",
    "from pytz import UTC # timezone\n",
    "\n",
    "cal = Calendar()\n",
    "cal.add('prodid', '-//My calendar product//mxm.dk//')\n",
    "cal.add('version', '2.0')\n",
    "\n",
    "event = Event()\n",
    "event.add('summary', 'Python meeting about calendaring')\n",
    "event.add('dtstart', datetime(2005,4,4,8,0,0,tzinfo=UTC))\n",
    "event.add('dtend', datetime(2005,4,4,10,0,0,tzinfo=UTC))\n",
    "event.add('dtstamp', datetime(2005,4,4,0,10,0,tzinfo=UTC))\n",
    "event['uid'] = '20050115T101010/27346262376@mxm.dk'\n",
    "event.add('priority', 5)\n",
    "\n",
    "cal.add_component(event)\n",
    "\n",
    "f = open('example.ics', 'wb')\n",
    "f.write(cal.to_ical())\n",
    "f.close()"
   ]
  },
  {
   "cell_type": "code",
   "execution_count": 6,
   "metadata": {},
   "outputs": [
    {
     "ename": "OSError",
     "evalue": "[Errno 22] Invalid argument: 'https://outlook.live.com/owa/calendar/7ccf53db-3012-46d7-a53e-57a4662a43e1/a72b49c9-4383-44a4-aa3c-ad5da04d23b9/cid-E31A0D5F7B6EBDD3/calendar.ics'",
     "output_type": "error",
     "traceback": [
      "\u001b[1;31m---------------------------------------------------------------------------\u001b[0m",
      "\u001b[1;31mOSError\u001b[0m                                   Traceback (most recent call last)",
      "\u001b[1;32m<ipython-input-6-cb8b9ad348ad>\u001b[0m in \u001b[0;36m<module>\u001b[1;34m\u001b[0m\n\u001b[1;32m----> 1\u001b[1;33m \u001b[0mg\u001b[0m \u001b[1;33m=\u001b[0m \u001b[0mopen\u001b[0m\u001b[1;33m(\u001b[0m\u001b[1;34m'https://outlook.live.com/owa/calendar/7ccf53db-3012-46d7-a53e-57a4662a43e1/a72b49c9-4383-44a4-aa3c-ad5da04d23b9/cid-E31A0D5F7B6EBDD3/calendar.ics'\u001b[0m\u001b[1;33m,\u001b[0m\u001b[1;34m'rb'\u001b[0m\u001b[1;33m)\u001b[0m\u001b[1;33m\u001b[0m\u001b[1;33m\u001b[0m\u001b[0m\n\u001b[0m\u001b[0;32m      2\u001b[0m \u001b[0mgcal\u001b[0m \u001b[1;33m=\u001b[0m \u001b[0mCalendar\u001b[0m\u001b[1;33m.\u001b[0m\u001b[0mfrom_ical\u001b[0m\u001b[1;33m(\u001b[0m\u001b[0mg\u001b[0m\u001b[1;33m.\u001b[0m\u001b[0mread\u001b[0m\u001b[1;33m(\u001b[0m\u001b[1;33m)\u001b[0m\u001b[1;33m)\u001b[0m\u001b[1;33m\u001b[0m\u001b[1;33m\u001b[0m\u001b[0m\n\u001b[0;32m      3\u001b[0m \u001b[1;32mfor\u001b[0m \u001b[0mcomponent\u001b[0m \u001b[1;32min\u001b[0m \u001b[0mgcal\u001b[0m\u001b[1;33m.\u001b[0m\u001b[0mwalk\u001b[0m\u001b[1;33m(\u001b[0m\u001b[1;33m)\u001b[0m\u001b[1;33m:\u001b[0m\u001b[1;33m\u001b[0m\u001b[1;33m\u001b[0m\u001b[0m\n\u001b[0;32m      4\u001b[0m     \u001b[1;32mif\u001b[0m \u001b[0mcomponent\u001b[0m\u001b[1;33m.\u001b[0m\u001b[0mname\u001b[0m \u001b[1;33m==\u001b[0m \u001b[1;34m\"VEVENT\"\u001b[0m\u001b[1;33m:\u001b[0m\u001b[1;33m\u001b[0m\u001b[1;33m\u001b[0m\u001b[0m\n\u001b[0;32m      5\u001b[0m         \u001b[0mprint\u001b[0m\u001b[1;33m(\u001b[0m\u001b[0mcomponent\u001b[0m\u001b[1;33m.\u001b[0m\u001b[0mget\u001b[0m\u001b[1;33m(\u001b[0m\u001b[1;34m'summary'\u001b[0m\u001b[1;33m)\u001b[0m\u001b[1;33m)\u001b[0m\u001b[1;33m\u001b[0m\u001b[1;33m\u001b[0m\u001b[0m\n",
      "\u001b[1;31mOSError\u001b[0m: [Errno 22] Invalid argument: 'https://outlook.live.com/owa/calendar/7ccf53db-3012-46d7-a53e-57a4662a43e1/a72b49c9-4383-44a4-aa3c-ad5da04d23b9/cid-E31A0D5F7B6EBDD3/calendar.ics'"
     ]
    }
   ],
   "source": [
    "g = open('example.ics','rb')\n",
    "gcal = Calendar.from_ical(g.read())\n",
    "for component in gcal.walk():\n",
    "    if component.name == \"VEVENT\":\n",
    "        print(component.get('summary'))\n",
    "        print(component.get('dtstart'))\n",
    "        print(component.get('dtend'))\n",
    "        print(component.get('dtstamp'))\n",
    "g.close()"
   ]
  },
  {
   "cell_type": "code",
   "execution_count": null,
   "metadata": {},
   "outputs": [],
   "source": []
  }
 ],
 "metadata": {
  "kernelspec": {
   "display_name": "Python 3",
   "language": "python",
   "name": "python3"
  },
  "language_info": {
   "codemirror_mode": {
    "name": "ipython",
    "version": 3
   },
   "file_extension": ".py",
   "mimetype": "text/x-python",
   "name": "python",
   "nbconvert_exporter": "python",
   "pygments_lexer": "ipython3",
   "version": "3.7.3"
  }
 },
 "nbformat": 4,
 "nbformat_minor": 4
}
