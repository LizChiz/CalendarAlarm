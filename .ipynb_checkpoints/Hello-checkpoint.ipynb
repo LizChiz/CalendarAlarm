{
 "cells": [
  {
   "cell_type": "code",
   "execution_count": 2,
   "metadata": {},
   "outputs": [],
   "source": [
    "from tkinter import *"
   ]
  },
  {
   "cell_type": "code",
   "execution_count": 6,
   "metadata": {},
   "outputs": [],
   "source": [
    "from tkinter import *\n",
    "\n",
    "root = Tk()\n",
    "\n",
    "# creating a label widget\n",
    "MyLabel = Label(root, text = \"Hello World!\")\n",
    "# Shoving it onto screen\n",
    "MyLabel.pack()\n",
    "\n",
    "root.mainloop()"
   ]
  },
  {
   "cell_type": "code",
   "execution_count": 12,
   "metadata": {},
   "outputs": [],
   "source": [
    "root = Tk()\n",
    "\n",
    "# creating a label widget\n",
    "MyLabel1 = Label(root, text = \"Hello World!\")\n",
    "MyLabel2 = Label(root, text = \"My name is Liz Chisholm\")\n",
    "\n",
    "\n",
    "MyLabel1.grid(row = 0, column = 0)\n",
    "MyLabel2.grid(row = 1, column = 5)\n",
    "\n",
    "root.mainloop()"
   ]
  },
  {
   "cell_type": "code",
   "execution_count": 17,
   "metadata": {},
   "outputs": [],
   "source": [
    "root = Tk()\n",
    "\n",
    "def myClick():\n",
    "    myLabel = Label(root, text = \"Look! I clicked a button!\")\n",
    "    myLabel.pack()\n",
    "\n",
    "# creating a button widget\n",
    "myButton = Button(root, text = \"Click Me!\", padx = 50, pady = 50, command = myClick)\n",
    "\n",
    "myButton.pack()\n",
    "\n",
    "root.mainloop()"
   ]
  },
  {
   "cell_type": "code",
   "execution_count": null,
   "metadata": {},
   "outputs": [],
   "source": []
  },
  {
   "cell_type": "code",
   "execution_count": null,
   "metadata": {},
   "outputs": [],
   "source": []
  }
 ],
 "metadata": {
  "kernelspec": {
   "display_name": "Python 3",
   "language": "python",
   "name": "python3"
  },
  "language_info": {
   "codemirror_mode": {
    "name": "ipython",
    "version": 3
   },
   "file_extension": ".py",
   "mimetype": "text/x-python",
   "name": "python",
   "nbconvert_exporter": "python",
   "pygments_lexer": "ipython3",
   "version": "3.7.3"
  }
 },
 "nbformat": 4,
 "nbformat_minor": 4
}
